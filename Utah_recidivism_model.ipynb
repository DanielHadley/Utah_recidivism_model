{
 "cells": [
  {
   "cell_type": "markdown",
   "metadata": {},
   "source": [
    "# About This Model\n",
    "The following code is to analyze data and make ballpark predictions about how much a reduction in recidivism could potentially save the State of Utah. We are specifically interested in parolees with co-occuring disorders (COD). \n",
    "\n",
    "## Assumptions\n",
    "The greatest challenge in making predictions about the costs and benefits of the COD population is that the Justice Reinvestment Initiative (JRI) is old enough to affect outcomes, but not old enough to collect reliable data on changes to recidivism, prison terms, crime frequencies, and parole sentences. Therefore, I am forced to make several assumptions about the likely affects of the JRI on these outcomes. I will try to list some of the important ones below, but there are other assumptions throughout this notebook.       "
   ]
  },
  {
   "cell_type": "code",
   "execution_count": null,
   "metadata": {
    "collapsed": true
   },
   "outputs": [],
   "source": [
    "# A 10% reduction in recidivism \n",
    "recid_reduction_from_JRI <- .10"
   ]
  },
  {
   "cell_type": "code",
   "execution_count": 7,
   "metadata": {
    "collapsed": false
   },
   "outputs": [],
   "source": [
    "# Load the packages neeed and set working directory\n",
    "options(warn = -1) # repress warnings\n",
    "setwd(\"~/Github/Utah_recidivism_model/\")\n",
    "library(dplyr)\n",
    "library(ggplot2)"
   ]
  },
  {
   "cell_type": "markdown",
   "metadata": {},
   "source": [
    "## About the data\n"
   ]
  },
  {
   "cell_type": "code",
   "execution_count": 11,
   "metadata": {
    "collapsed": false
   },
   "outputs": [
    {
     "data": {
      "text/html": [
       "<table>\n",
       "<thead><tr><th scope=col>offense_type</th><th scope=col>mean_time_served</th><th scope=col>frequency_of_crime</th><th scope=col>frequency</th><th scope=col>assumptions</th><th scope=col>court_cost</th><th scope=col>police_cost</th></tr></thead>\n",
       "<tbody>\n",
       "\t<tr><td>Murder                       </td><td>209                          </td><td>0.0167                       </td><td>0.004922342                  </td><td>NA                           </td><td>62037                        </td><td>4509                         </td></tr>\n",
       "\t<tr><td>Person                       </td><td> 62                          </td><td>0.2381                       </td><td>0.070180215                  </td><td>NA                           </td><td> 5443                        </td><td>4509                         </td></tr>\n",
       "\t<tr><td>Sex                          </td><td> 73                          </td><td>0.0667                       </td><td>0.019659892                  </td><td>NA                           </td><td> 5443                        </td><td>4509                         </td></tr>\n",
       "\t<tr><td>Property                     </td><td> 23                          </td><td>0.3143                       </td><td>0.092640242                  </td><td>NA                           </td><td> 2284                        </td><td> 880                         </td></tr>\n",
       "\t<tr><td>Drug                         </td><td> 18                          </td><td>0.2214                       </td><td>0.065257873                  </td><td>includes posession           </td><td> 2284                        </td><td> 880                         </td></tr>\n",
       "\t<tr><td>Other                        </td><td> 17                          </td><td>0.1428                       </td><td>0.042090444                  </td><td>weapons and driving and other</td><td> 2284                        </td><td> 880                         </td></tr>\n",
       "</tbody>\n",
       "</table>\n"
      ],
      "text/latex": [
       "\\begin{tabular}{r|lllllll}\n",
       " offense\\_type & mean\\_time\\_served & frequency\\_of\\_crime & frequency & assumptions & court\\_cost & police\\_cost\\\\\n",
       "\\hline\n",
       "\t Murder                        & 209                           & 0.0167                        & 0.004922342                   & NA                            & 62037                         & 4509                         \\\\\n",
       "\t Person                        &  62                           & 0.2381                        & 0.070180215                   & NA                            &  5443                         & 4509                         \\\\\n",
       "\t Sex                           &  73                           & 0.0667                        & 0.019659892                   & NA                            &  5443                         & 4509                         \\\\\n",
       "\t Property                      &  23                           & 0.3143                        & 0.092640242                   & NA                            &  2284                         &  880                         \\\\\n",
       "\t Drug                          &  18                           & 0.2214                        & 0.065257873                   & includes posession            &  2284                         &  880                         \\\\\n",
       "\t Other                         &  17                           & 0.1428                        & 0.042090444                   & weapons and driving and other &  2284                         &  880                         \\\\\n",
       "\\end{tabular}\n"
      ],
      "text/plain": [
       "  offense_type mean_time_served frequency_of_crime frequency  \n",
       "1 Murder       209              0.0167             0.004922342\n",
       "2 Person        62              0.2381             0.070180215\n",
       "3 Sex           73              0.0667             0.019659892\n",
       "4 Property      23              0.3143             0.092640242\n",
       "5 Drug          18              0.2214             0.065257873\n",
       "6 Other         17              0.1428             0.042090444\n",
       "  assumptions                   court_cost police_cost\n",
       "1 NA                            62037      4509       \n",
       "2 NA                             5443      4509       \n",
       "3 NA                             5443      4509       \n",
       "4 NA                             2284       880       \n",
       "5 includes posession             2284       880       \n",
       "6 weapons and driving and other  2284       880       "
      ]
     },
     "metadata": {},
     "output_type": "display_data"
    }
   ],
   "source": [
    "prison_terms <- read.csv(\"./clean_data/utah_cod_recidivism_rates.csv\", stringsAsFactors = FALSE) %>% \n",
    "  mutate(mean_time_served = round(mean_time_served))\n",
    "\n",
    "# I do these so that I can add a blank in the function below\n",
    "prison_terms[8,1] <- \"\"\n",
    "\n",
    "# replcace NAs with 0\n",
    "prison_terms$frequency[is.na(prison_terms$frequency)] <- 0\n",
    "prison_terms$frequency_of_crime[is.na(prison_terms$frequency_of_crime)] <- 0\n",
    "\n",
    "head(prison_terms)"
   ]
  }
 ],
 "metadata": {
  "kernelspec": {
   "display_name": "R",
   "language": "R",
   "name": "ir"
  },
  "language_info": {
   "codemirror_mode": "r",
   "file_extension": ".r",
   "mimetype": "text/x-r-source",
   "name": "R",
   "pygments_lexer": "r",
   "version": "3.3.1"
  }
 },
 "nbformat": 4,
 "nbformat_minor": 0
}
